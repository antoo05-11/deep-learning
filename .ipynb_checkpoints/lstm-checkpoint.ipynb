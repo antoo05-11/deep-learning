{
 "cells": [
  {
   "cell_type": "code",
   "execution_count": 68,
   "id": "initial_id",
   "metadata": {
    "collapsed": true,
    "ExecuteTime": {
     "end_time": "2024-01-13T06:12:44.651174784Z",
     "start_time": "2024-01-13T06:12:44.646478164Z"
    }
   },
   "outputs": [],
   "source": [
    "import numpy as np\n",
    "from tensorflow.keras.models import Sequential\n",
    "from tensorflow.keras.layers import LSTM, Dense"
   ]
  },
  {
   "cell_type": "code",
   "outputs": [],
   "source": [
    "n = 1000\n",
    "data = np.array([[i] for i in range(n)]) #0,1,2\n",
    "target = np.array([i for i in range(1, n + 1)]) #1,2,3"
   ],
   "metadata": {
    "collapsed": false,
    "ExecuteTime": {
     "end_time": "2024-01-13T06:12:44.702626166Z",
     "start_time": "2024-01-13T06:12:44.651287074Z"
    }
   },
   "id": "fac132d777a6e58d",
   "execution_count": 69
  },
  {
   "cell_type": "code",
   "outputs": [
    {
     "data": {
      "text/plain": "(990, 1)"
     },
     "execution_count": 70,
     "metadata": {},
     "output_type": "execute_result"
    }
   ],
   "source": [
    "x_train, x_test = data[:990], data[990:]\n",
    "y_train, y_test = target[:990], target[990:]\n",
    "\n",
    "x_train.shape"
   ],
   "metadata": {
    "collapsed": false,
    "ExecuteTime": {
     "end_time": "2024-01-13T06:12:44.705135294Z",
     "start_time": "2024-01-13T06:12:44.704368534Z"
    }
   },
   "id": "56eff2fc9709f3cd",
   "execution_count": 70
  },
  {
   "cell_type": "code",
   "outputs": [
    {
     "data": {
      "text/plain": "(990, 1, 1)"
     },
     "execution_count": 74,
     "metadata": {},
     "output_type": "execute_result"
    }
   ],
   "source": [
    "x_train = np.reshape(a=x_train, newshape=(x_train.shape[0], 1, x_train.shape[1]))\n",
    "x_test = np.reshape(x_test, (x_test.shape[0], 1, x_test.shape[1]))\n",
    "\n",
    "x_train.shape"
   ],
   "metadata": {
    "collapsed": false,
    "ExecuteTime": {
     "end_time": "2024-01-13T09:38:08.844441920Z",
     "start_time": "2024-01-13T09:38:08.800682970Z"
    }
   },
   "id": "c63c319fc64ee8ef",
   "execution_count": 74
  },
  {
   "cell_type": "code",
   "outputs": [
    {
     "name": "stdout",
     "output_type": "stream",
     "text": [
      "Model: \"sequential_14\"\n",
      "_________________________________________________________________\n",
      " Layer (type)                Output Shape              Param #   \n",
      "=================================================================\n",
      " lstm_14 (LSTM)              (None, 50)                10400     \n",
      "                                                                 \n",
      " dense_14 (Dense)            (None, 1)                 51        \n",
      "                                                                 \n",
      "=================================================================\n",
      "Total params: 10451 (40.82 KB)\n",
      "Trainable params: 10451 (40.82 KB)\n",
      "Non-trainable params: 0 (0.00 Byte)\n",
      "_________________________________________________________________\n"
     ]
    }
   ],
   "source": [
    "model = Sequential()\n",
    "model.add(LSTM(50, activation='relu', input_shape=(1, 1)))\n",
    "model.add(Dense(1))\n",
    "model.compile(optimizer='adam', loss='mse')\n",
    "model.summary()"
   ],
   "metadata": {
    "collapsed": false,
    "ExecuteTime": {
     "end_time": "2024-01-13T09:41:14.972969408Z",
     "start_time": "2024-01-13T09:41:14.902717549Z"
    }
   },
   "id": "ebb65596020a408b",
   "execution_count": 77
  },
  {
   "cell_type": "code",
   "outputs": [
    {
     "name": "stdout",
     "output_type": "stream",
     "text": [
      "Epoch 1/100\n",
      "31/31 [==============================] - 1s 5ms/step - loss: 342003.7812 - val_loss: 992141.6250\n",
      "Epoch 2/100\n",
      "31/31 [==============================] - 0s 2ms/step - loss: 310006.2812 - val_loss: 874477.5000\n",
      "Epoch 3/100\n",
      "31/31 [==============================] - 0s 2ms/step - loss: 277684.5938 - val_loss: 775521.4375\n",
      "Epoch 4/100\n",
      "31/31 [==============================] - 0s 2ms/step - loss: 142102.1719 - val_loss: 78301.5469\n",
      "Epoch 5/100\n",
      "31/31 [==============================] - 0s 2ms/step - loss: 10076.4658 - val_loss: 3653.5320\n",
      "Epoch 6/100\n",
      "31/31 [==============================] - 0s 2ms/step - loss: 238.4389 - val_loss: 14.6116\n",
      "Epoch 7/100\n",
      "31/31 [==============================] - 0s 2ms/step - loss: 15.4942 - val_loss: 7.7149\n",
      "Epoch 8/100\n",
      "31/31 [==============================] - 0s 2ms/step - loss: 9.4489 - val_loss: 0.0310\n",
      "Epoch 9/100\n",
      "31/31 [==============================] - 0s 2ms/step - loss: 8.5091 - val_loss: 0.0621\n",
      "Epoch 10/100\n",
      "31/31 [==============================] - 0s 2ms/step - loss: 6.2323 - val_loss: 0.0010\n",
      "Epoch 11/100\n",
      "31/31 [==============================] - 0s 2ms/step - loss: 4.6653 - val_loss: 0.0236\n",
      "Epoch 12/100\n",
      "31/31 [==============================] - 0s 2ms/step - loss: 3.5826 - val_loss: 0.0134\n",
      "Epoch 13/100\n",
      "31/31 [==============================] - 0s 2ms/step - loss: 2.8232 - val_loss: 0.0086\n",
      "Epoch 14/100\n",
      "31/31 [==============================] - 0s 2ms/step - loss: 2.1963 - val_loss: 0.0064\n",
      "Epoch 15/100\n",
      "31/31 [==============================] - 0s 2ms/step - loss: 1.7342 - val_loss: 0.0055\n",
      "Epoch 16/100\n",
      "31/31 [==============================] - 0s 2ms/step - loss: 1.3639 - val_loss: 0.0029\n",
      "Epoch 17/100\n",
      "31/31 [==============================] - 0s 2ms/step - loss: 1.0616 - val_loss: 0.0013\n",
      "Epoch 18/100\n",
      "31/31 [==============================] - 0s 2ms/step - loss: 0.8294 - val_loss: 0.0014\n",
      "Epoch 19/100\n",
      "31/31 [==============================] - 0s 2ms/step - loss: 0.6454 - val_loss: 2.6382e-04\n",
      "Epoch 20/100\n",
      "31/31 [==============================] - 0s 2ms/step - loss: 0.4920 - val_loss: 1.5309e-04\n",
      "Epoch 21/100\n",
      "31/31 [==============================] - 0s 2ms/step - loss: 0.3662 - val_loss: 1.0671e-05\n",
      "Epoch 22/100\n",
      "31/31 [==============================] - 0s 2ms/step - loss: 0.1670 - val_loss: 5.4482e-04\n",
      "Epoch 23/100\n",
      "31/31 [==============================] - 0s 2ms/step - loss: 0.0683 - val_loss: 0.0011\n",
      "Epoch 24/100\n",
      "31/31 [==============================] - 0s 2ms/step - loss: 0.0386 - val_loss: 0.0021\n",
      "Epoch 25/100\n",
      "31/31 [==============================] - 0s 2ms/step - loss: 0.0277 - val_loss: 0.0017\n",
      "Epoch 26/100\n",
      "31/31 [==============================] - 0s 2ms/step - loss: 0.0196 - val_loss: 0.0014\n",
      "Epoch 27/100\n",
      "31/31 [==============================] - 0s 2ms/step - loss: 0.0133 - val_loss: 0.0013\n",
      "Epoch 28/100\n",
      "31/31 [==============================] - 0s 2ms/step - loss: 0.0096 - val_loss: 0.0011\n",
      "Epoch 29/100\n",
      "31/31 [==============================] - 0s 2ms/step - loss: 0.0075 - val_loss: 0.0010\n",
      "Epoch 30/100\n",
      "31/31 [==============================] - 0s 2ms/step - loss: 0.0064 - val_loss: 9.6070e-04\n",
      "Epoch 31/100\n",
      "31/31 [==============================] - 0s 2ms/step - loss: 0.0058 - val_loss: 0.0010\n",
      "Epoch 32/100\n",
      "31/31 [==============================] - 0s 2ms/step - loss: 0.0053 - val_loss: 9.9388e-04\n",
      "Epoch 33/100\n",
      "31/31 [==============================] - 0s 2ms/step - loss: 0.0049 - val_loss: 0.0011\n",
      "Epoch 34/100\n",
      "31/31 [==============================] - 0s 2ms/step - loss: 0.0045 - val_loss: 9.2843e-04\n",
      "Epoch 35/100\n",
      "31/31 [==============================] - 0s 2ms/step - loss: 0.0041 - val_loss: 0.0012\n",
      "Epoch 36/100\n",
      "31/31 [==============================] - 0s 2ms/step - loss: 0.0038 - val_loss: 0.0010\n",
      "Epoch 37/100\n",
      "31/31 [==============================] - 0s 2ms/step - loss: 0.0035 - val_loss: 9.8429e-04\n",
      "Epoch 38/100\n",
      "31/31 [==============================] - 0s 2ms/step - loss: 0.0032 - val_loss: 0.0011\n",
      "Epoch 39/100\n",
      "31/31 [==============================] - 0s 2ms/step - loss: 0.0030 - val_loss: 9.7094e-04\n",
      "Epoch 40/100\n",
      "31/31 [==============================] - 0s 2ms/step - loss: 0.0027 - val_loss: 0.0010\n",
      "Epoch 41/100\n",
      "31/31 [==============================] - 0s 2ms/step - loss: 0.0026 - val_loss: 0.0010\n",
      "Epoch 42/100\n",
      "31/31 [==============================] - 0s 2ms/step - loss: 0.0024 - val_loss: 0.0011\n",
      "Epoch 43/100\n",
      "31/31 [==============================] - 0s 2ms/step - loss: 0.0023 - val_loss: 9.3851e-04\n",
      "Epoch 44/100\n",
      "31/31 [==============================] - 0s 2ms/step - loss: 0.0021 - val_loss: 0.0010\n",
      "Epoch 45/100\n",
      "31/31 [==============================] - 0s 2ms/step - loss: 0.0019 - val_loss: 9.8353e-04\n",
      "Epoch 46/100\n",
      "31/31 [==============================] - 0s 2ms/step - loss: 0.0018 - val_loss: 0.0010\n",
      "Epoch 47/100\n",
      "31/31 [==============================] - 0s 2ms/step - loss: 0.0017 - val_loss: 9.6486e-04\n",
      "Epoch 48/100\n",
      "31/31 [==============================] - 0s 2ms/step - loss: 0.0016 - val_loss: 9.6866e-04\n",
      "Epoch 49/100\n",
      "31/31 [==============================] - 0s 2ms/step - loss: 0.0015 - val_loss: 0.0011\n",
      "Epoch 50/100\n",
      "31/31 [==============================] - 0s 2ms/step - loss: 0.0014 - val_loss: 0.0011\n",
      "Epoch 51/100\n",
      "31/31 [==============================] - 0s 2ms/step - loss: 0.0013 - val_loss: 0.0011\n",
      "Epoch 52/100\n",
      "31/31 [==============================] - 0s 2ms/step - loss: 0.0013 - val_loss: 0.0010\n",
      "Epoch 53/100\n",
      "31/31 [==============================] - 0s 2ms/step - loss: 0.0012 - val_loss: 9.2027e-04\n",
      "Epoch 54/100\n",
      "31/31 [==============================] - 0s 2ms/step - loss: 0.0011 - val_loss: 9.5956e-04\n",
      "Epoch 55/100\n",
      "31/31 [==============================] - 0s 2ms/step - loss: 0.0011 - val_loss: 0.0011\n",
      "Epoch 56/100\n",
      "31/31 [==============================] - 0s 2ms/step - loss: 0.0010 - val_loss: 0.0012\n",
      "Epoch 57/100\n",
      "31/31 [==============================] - 0s 2ms/step - loss: 0.0010 - val_loss: 0.0010\n",
      "Epoch 58/100\n",
      "31/31 [==============================] - 0s 2ms/step - loss: 9.4317e-04 - val_loss: 8.2581e-04\n",
      "Epoch 59/100\n",
      "31/31 [==============================] - 0s 2ms/step - loss: 8.9258e-04 - val_loss: 0.0010\n",
      "Epoch 60/100\n",
      "31/31 [==============================] - 0s 2ms/step - loss: 9.0230e-04 - val_loss: 0.0011\n",
      "Epoch 61/100\n",
      "31/31 [==============================] - 0s 2ms/step - loss: 8.4601e-04 - val_loss: 8.3038e-04\n",
      "Epoch 62/100\n",
      "31/31 [==============================] - 0s 2ms/step - loss: 8.5530e-04 - val_loss: 7.5613e-04\n",
      "Epoch 63/100\n",
      "31/31 [==============================] - 0s 2ms/step - loss: 8.2899e-04 - val_loss: 0.0012\n",
      "Epoch 64/100\n",
      "31/31 [==============================] - 0s 2ms/step - loss: 7.4014e-04 - val_loss: 7.7369e-04\n",
      "Epoch 65/100\n",
      "31/31 [==============================] - 0s 2ms/step - loss: 7.2068e-04 - val_loss: 8.4167e-04\n",
      "Epoch 66/100\n",
      "31/31 [==============================] - 0s 2ms/step - loss: 6.9803e-04 - val_loss: 9.2694e-04\n",
      "Epoch 67/100\n",
      "31/31 [==============================] - 0s 2ms/step - loss: 7.1637e-04 - val_loss: 9.1435e-04\n",
      "Epoch 68/100\n",
      "31/31 [==============================] - 0s 2ms/step - loss: 6.7812e-04 - val_loss: 9.0479e-04\n",
      "Epoch 69/100\n",
      "31/31 [==============================] - 0s 2ms/step - loss: 6.4931e-04 - val_loss: 8.1044e-04\n",
      "Epoch 70/100\n",
      "31/31 [==============================] - 0s 2ms/step - loss: 6.5016e-04 - val_loss: 0.0010\n",
      "Epoch 71/100\n",
      "31/31 [==============================] - 0s 2ms/step - loss: 6.3454e-04 - val_loss: 0.0010\n",
      "Epoch 72/100\n",
      "31/31 [==============================] - 0s 2ms/step - loss: 6.2204e-04 - val_loss: 9.5956e-04\n",
      "Epoch 73/100\n",
      "31/31 [==============================] - 0s 2ms/step - loss: 6.0111e-04 - val_loss: 9.4976e-04\n",
      "Epoch 74/100\n",
      "31/31 [==============================] - 0s 2ms/step - loss: 6.3568e-04 - val_loss: 9.8315e-04\n",
      "Epoch 75/100\n",
      "31/31 [==============================] - 0s 2ms/step - loss: 5.7673e-04 - val_loss: 0.0010\n",
      "Epoch 76/100\n",
      "31/31 [==============================] - 0s 2ms/step - loss: 5.8237e-04 - val_loss: 9.9466e-04\n",
      "Epoch 77/100\n",
      "31/31 [==============================] - 0s 2ms/step - loss: 5.8778e-04 - val_loss: 9.3364e-04\n",
      "Epoch 78/100\n",
      "31/31 [==============================] - 0s 2ms/step - loss: 5.9445e-04 - val_loss: 9.8737e-04\n",
      "Epoch 79/100\n",
      "31/31 [==============================] - 0s 2ms/step - loss: 5.9411e-04 - val_loss: 8.3637e-04\n",
      "Epoch 80/100\n",
      "31/31 [==============================] - 0s 2ms/step - loss: 5.6968e-04 - val_loss: 9.2656e-04\n",
      "Epoch 81/100\n",
      "31/31 [==============================] - 0s 2ms/step - loss: 5.5219e-04 - val_loss: 0.0010\n",
      "Epoch 82/100\n",
      "31/31 [==============================] - 0s 2ms/step - loss: 6.5539e-04 - val_loss: 0.0011\n",
      "Epoch 83/100\n",
      "31/31 [==============================] - 0s 3ms/step - loss: 5.4983e-04 - val_loss: 0.0011\n",
      "Epoch 84/100\n",
      "31/31 [==============================] - 0s 2ms/step - loss: 6.4446e-04 - val_loss: 7.3811e-04\n",
      "Epoch 85/100\n",
      "31/31 [==============================] - 0s 2ms/step - loss: 5.7802e-04 - val_loss: 8.8577e-04\n",
      "Epoch 86/100\n",
      "31/31 [==============================] - 0s 2ms/step - loss: 5.2229e-04 - val_loss: 7.3082e-04\n",
      "Epoch 87/100\n",
      "31/31 [==============================] - 0s 2ms/step - loss: 5.4235e-04 - val_loss: 0.0011\n",
      "Epoch 88/100\n",
      "31/31 [==============================] - 0s 2ms/step - loss: 5.1822e-04 - val_loss: 8.4556e-04\n",
      "Epoch 89/100\n",
      "31/31 [==============================] - 0s 2ms/step - loss: 5.1045e-04 - val_loss: 8.8433e-04\n",
      "Epoch 90/100\n",
      "31/31 [==============================] - 0s 2ms/step - loss: 5.6895e-04 - val_loss: 8.7058e-04\n",
      "Epoch 91/100\n",
      "31/31 [==============================] - 0s 2ms/step - loss: 5.6027e-04 - val_loss: 9.2027e-04\n",
      "Epoch 92/100\n",
      "31/31 [==============================] - 0s 2ms/step - loss: 5.9513e-04 - val_loss: 9.0331e-04\n",
      "Epoch 93/100\n",
      "31/31 [==============================] - 0s 2ms/step - loss: 5.2602e-04 - val_loss: 9.7094e-04\n",
      "Epoch 94/100\n",
      "31/31 [==============================] - 0s 2ms/step - loss: 5.8788e-04 - val_loss: 0.0010\n",
      "Epoch 95/100\n",
      "31/31 [==============================] - 0s 2ms/step - loss: 5.3260e-04 - val_loss: 9.6561e-04\n",
      "Epoch 96/100\n",
      "31/31 [==============================] - 0s 2ms/step - loss: 5.0254e-04 - val_loss: 9.0477e-04\n",
      "Epoch 97/100\n",
      "31/31 [==============================] - 0s 2ms/step - loss: 5.0024e-04 - val_loss: 9.9196e-04\n",
      "Epoch 98/100\n",
      "31/31 [==============================] - 0s 2ms/step - loss: 5.1091e-04 - val_loss: 9.9235e-04\n",
      "Epoch 99/100\n",
      "31/31 [==============================] - 0s 2ms/step - loss: 4.7882e-04 - val_loss: 0.0011\n",
      "Epoch 100/100\n",
      "31/31 [==============================] - 0s 2ms/step - loss: 5.5324e-04 - val_loss: 0.0010\n",
      "1/1 [==============================] - 0s 90ms/step\n",
      "[[ 991.0314 ]\n",
      " [ 992.0315 ]\n",
      " [ 993.0316 ]\n",
      " [ 994.03174]\n",
      " [ 995.0318 ]\n",
      " [ 996.0319 ]\n",
      " [ 997.032  ]\n",
      " [ 998.0321 ]\n",
      " [ 999.0323 ]\n",
      " [1000.03235]]\n"
     ]
    }
   ],
   "source": [
    "model.fit(x_train, y_train, epochs=100, validation_data=(x_test, y_test))\n",
    "\n",
    "predictions = model.predict(x_test)\n",
    "\n",
    "print(predictions)"
   ],
   "metadata": {
    "collapsed": false,
    "ExecuteTime": {
     "end_time": "2024-01-13T09:38:19.808040821Z",
     "start_time": "2024-01-13T09:38:13.723711139Z"
    }
   },
   "id": "412524a1dc9dab3d",
   "execution_count": 76
  },
  {
   "cell_type": "code",
   "outputs": [],
   "source": [],
   "metadata": {
    "collapsed": false,
    "ExecuteTime": {
     "end_time": "2024-01-13T06:12:51.148526688Z",
     "start_time": "2024-01-13T06:12:51.105008901Z"
    }
   },
   "id": "6af95ae52953f10c",
   "execution_count": 73
  },
  {
   "cell_type": "code",
   "outputs": [],
   "source": [],
   "metadata": {
    "collapsed": false,
    "ExecuteTime": {
     "end_time": "2024-01-13T06:12:51.149114137Z",
     "start_time": "2024-01-13T06:12:51.148362656Z"
    }
   },
   "id": "9ec435bd33a80920",
   "execution_count": 73
  }
 ],
 "metadata": {
  "kernelspec": {
   "display_name": "Python 3",
   "language": "python",
   "name": "python3"
  },
  "language_info": {
   "codemirror_mode": {
    "name": "ipython",
    "version": 2
   },
   "file_extension": ".py",
   "mimetype": "text/x-python",
   "name": "python",
   "nbconvert_exporter": "python",
   "pygments_lexer": "ipython2",
   "version": "2.7.6"
  }
 },
 "nbformat": 4,
 "nbformat_minor": 5
}
