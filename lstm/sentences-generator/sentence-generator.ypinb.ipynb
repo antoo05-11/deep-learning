{
 "cells": [
  {
   "cell_type": "code",
   "execution_count": 12,
   "id": "initial_id",
   "metadata": {
    "collapsed": true,
    "ExecuteTime": {
     "end_time": "2024-01-21T04:18:25.830032969Z",
     "start_time": "2024-01-21T04:18:25.801403513Z"
    }
   },
   "outputs": [],
   "source": [
    "import numpy as np\n",
    "from tensorflow.keras.layers import Dense, LSTM\n",
    "from tensorflow.keras.models import Sequential\n",
    "import re"
   ]
  },
  {
   "cell_type": "code",
   "outputs": [],
   "source": [
    "class Vocab:\n",
    "    def __init__(self):\n",
    "        self.words = {\".\": 0}\n",
    "\n",
    "    def addWord(self, word):\n",
    "        if len(word) == 0: return\n",
    "        if word not in self.words: self.words[word] = len(self.words)\n",
    "\n",
    "    def getWords(self):\n",
    "        return self.words\n",
    "\n",
    "    def getWordFromIndex(self, index):\n",
    "        return list(self.words.keys())[list(self.words.values()).index(index)]\n",
    "\n",
    "\n",
    "def cleanSentence(sentence):\n",
    "    sentence = sentence.lower()\n",
    "    sentence = re.sub(r'[^a-z0-9\\sàáảãạăằắẳẵặâầấẩẫậèéẻẽẹêềếểễệđìíỉĩịòóỏõọôồốổỗộơờớởỡợùúủũụưừứửữựỳỹỷỵ]', ' ', sentence)\n",
    "    sentence = ' '.join(sentence.split())\n",
    "    return sentence"
   ],
   "metadata": {
    "collapsed": false,
    "ExecuteTime": {
     "end_time": "2024-01-21T04:18:25.832675012Z",
     "start_time": "2024-01-21T04:18:25.830550577Z"
    }
   },
   "id": "221dced67ea29336",
   "execution_count": 13
  },
  {
   "cell_type": "code",
   "outputs": [
    {
     "ename": "FileNotFoundError",
     "evalue": "[Errno 2] No such file or directory: './data.txt'",
     "output_type": "error",
     "traceback": [
      "\u001B[0;31m---------------------------------------------------------------------------\u001B[0m",
      "\u001B[0;31mFileNotFoundError\u001B[0m                         Traceback (most recent call last)",
      "Cell \u001B[0;32mIn[14], line 1\u001B[0m\n\u001B[0;32m----> 1\u001B[0m data_file \u001B[38;5;241m=\u001B[39m \u001B[38;5;28;43mopen\u001B[39;49m\u001B[43m(\u001B[49m\u001B[38;5;124;43m'\u001B[39;49m\u001B[38;5;124;43m./data.txt\u001B[39;49m\u001B[38;5;124;43m'\u001B[39;49m\u001B[43m,\u001B[49m\u001B[43m \u001B[49m\u001B[38;5;124;43m'\u001B[39;49m\u001B[38;5;124;43mr\u001B[39;49m\u001B[38;5;124;43m'\u001B[39;49m\u001B[43m,\u001B[49m\u001B[43m \u001B[49m\u001B[43mencoding\u001B[49m\u001B[38;5;241;43m=\u001B[39;49m\u001B[38;5;124;43m'\u001B[39;49m\u001B[38;5;124;43mutf-8\u001B[39;49m\u001B[38;5;124;43m'\u001B[39;49m\u001B[43m)\u001B[49m\n\u001B[1;32m      2\u001B[0m lines \u001B[38;5;241m=\u001B[39m data_file\u001B[38;5;241m.\u001B[39mreadlines()\n\u001B[1;32m      4\u001B[0m vocab \u001B[38;5;241m=\u001B[39m Vocab()\n",
      "File \u001B[0;32m~/Documents/projects/python/learning/.venv/lib/python3.10/site-packages/IPython/core/interactiveshell.py:310\u001B[0m, in \u001B[0;36m_modified_open\u001B[0;34m(file, *args, **kwargs)\u001B[0m\n\u001B[1;32m    303\u001B[0m \u001B[38;5;28;01mif\u001B[39;00m file \u001B[38;5;129;01min\u001B[39;00m {\u001B[38;5;241m0\u001B[39m, \u001B[38;5;241m1\u001B[39m, \u001B[38;5;241m2\u001B[39m}:\n\u001B[1;32m    304\u001B[0m     \u001B[38;5;28;01mraise\u001B[39;00m \u001B[38;5;167;01mValueError\u001B[39;00m(\n\u001B[1;32m    305\u001B[0m         \u001B[38;5;124mf\u001B[39m\u001B[38;5;124m\"\u001B[39m\u001B[38;5;124mIPython won\u001B[39m\u001B[38;5;124m'\u001B[39m\u001B[38;5;124mt let you open fd=\u001B[39m\u001B[38;5;132;01m{\u001B[39;00mfile\u001B[38;5;132;01m}\u001B[39;00m\u001B[38;5;124m by default \u001B[39m\u001B[38;5;124m\"\u001B[39m\n\u001B[1;32m    306\u001B[0m         \u001B[38;5;124m\"\u001B[39m\u001B[38;5;124mas it is likely to crash IPython. If you know what you are doing, \u001B[39m\u001B[38;5;124m\"\u001B[39m\n\u001B[1;32m    307\u001B[0m         \u001B[38;5;124m\"\u001B[39m\u001B[38;5;124myou can use builtins\u001B[39m\u001B[38;5;124m'\u001B[39m\u001B[38;5;124m open.\u001B[39m\u001B[38;5;124m\"\u001B[39m\n\u001B[1;32m    308\u001B[0m     )\n\u001B[0;32m--> 310\u001B[0m \u001B[38;5;28;01mreturn\u001B[39;00m \u001B[43mio_open\u001B[49m\u001B[43m(\u001B[49m\u001B[43mfile\u001B[49m\u001B[43m,\u001B[49m\u001B[43m \u001B[49m\u001B[38;5;241;43m*\u001B[39;49m\u001B[43margs\u001B[49m\u001B[43m,\u001B[49m\u001B[43m \u001B[49m\u001B[38;5;241;43m*\u001B[39;49m\u001B[38;5;241;43m*\u001B[39;49m\u001B[43mkwargs\u001B[49m\u001B[43m)\u001B[49m\n",
      "\u001B[0;31mFileNotFoundError\u001B[0m: [Errno 2] No such file or directory: './data.txt'"
     ]
    }
   ],
   "source": [
    "data_file = open('./data.txt', 'r', encoding='utf-8')\n",
    "lines = data_file.readlines()\n",
    "\n",
    "vocab = Vocab()\n",
    "data = []\n",
    "for line in lines:\n",
    "    line = cleanSentence(line)\n",
    "    words = line.split(' ')\n",
    "    for word in words:\n",
    "        vocab.addWord(word)\n",
    "        data.append(vocab.getWords().get(word))\n",
    "        \n",
    "tmp = []\n",
    "for i in data:\n",
    "    vector_one_hot = np.zeros(1000)\n",
    "    vector_one_hot[i] = 1\n",
    "    tmp.append(vector_one_hot)\n",
    "\n",
    "data = np.array(tmp)\n",
    "target = np.array(tmp)\n",
    "\n",
    "data = data[:-1]\n",
    "target = target[1:]"
   ],
   "metadata": {
    "collapsed": false,
    "ExecuteTime": {
     "end_time": "2024-01-21T04:18:25.983851362Z",
     "start_time": "2024-01-21T04:18:25.837246708Z"
    }
   },
   "id": "7618a896d17d9cc8",
   "execution_count": 14
  },
  {
   "cell_type": "code",
   "outputs": [],
   "source": [
    "n = (data - 1).size\n",
    "size_train = int(n * 0.8)\n",
    "size_val = n - size_train\n",
    "\n",
    "x_train, x_val, x_test = data[:size_train], data[size_train:size_train + size_val], data[size_train + size_val:]\n",
    "\n",
    "y_train, y_val, y_test = target[:size_train], target[size_train:size_train + size_val], target[size_train + size_val:]\n",
    "\n",
    "n, size_train, size_val"
   ],
   "metadata": {
    "collapsed": false,
    "ExecuteTime": {
     "start_time": "2024-01-21T04:18:25.983240211Z"
    }
   },
   "id": "e984883ca3601d90",
   "execution_count": null
  },
  {
   "cell_type": "code",
   "outputs": [],
   "source": [
    "x_train = np.reshape(x_train, (x_train.shape[0], 1, x_train.shape[1]))\n",
    "x_test = np.reshape(x_test, (x_test.shape[0], 1, x_test.shape[1]))\n",
    "y_train"
   ],
   "metadata": {
    "collapsed": false,
    "ExecuteTime": {
     "start_time": "2024-01-21T04:18:25.983681556Z"
    }
   },
   "id": "8c0522b786179a18",
   "execution_count": null
  },
  {
   "cell_type": "code",
   "outputs": [],
   "source": [
    "model = Sequential()\n",
    "model.add(LSTM(units=1000, activation='relu', input_shape=(None, 1000)))\n",
    "model.add(Dense(1))\n",
    "model.compile(optimizer='adam', loss='mse')"
   ],
   "metadata": {
    "collapsed": false,
    "ExecuteTime": {
     "end_time": "2024-01-21T04:18:25.984552677Z",
     "start_time": "2024-01-21T04:18:25.984017296Z"
    }
   },
   "id": "2d57d337dc0e10aa",
   "execution_count": null
  },
  {
   "cell_type": "code",
   "outputs": [],
   "source": [
    "model.fit(x_train, y_train, epochs=80, batch_size=32)"
   ],
   "metadata": {
    "collapsed": false,
    "ExecuteTime": {
     "start_time": "2024-01-21T04:18:25.984155503Z"
    }
   },
   "id": "b43e8197be928914",
   "execution_count": null
  },
  {
   "cell_type": "code",
   "outputs": [],
   "source": [
    "sentence_prediction = 'reuters was unable to independently verify'\n",
    "words_prediction = sentence_prediction.split(' ')\n",
    "words_test = []\n",
    "\n",
    "for word_ in words_prediction:\n",
    "    words_test.append(vocab.getWords().get(word_))\n",
    "\n",
    "tmp = []\n",
    "for i in words_test:\n",
    "    vector_one_hot = np.zeros(1000)\n",
    "    vector_one_hot[i] = 1\n",
    "    tmp.append(vector_one_hot)\n",
    "\n",
    "words_test = np.array(tmp)\n",
    "words_test = np.reshape(words_test, (words_test.shape[0], 1, words_test.shape[1]))\n",
    "predictions = model.predict(words_test)\n",
    "print(predictions)\n",
    "# sentence_prediction = ''\n",
    "# for word_index in predictions[:, ]:\n",
    "#     sentence_prediction += ' ' + vocab.getWordFromIndex(int(word_index))\n",
    "# sentence_prediction"
   ],
   "metadata": {
    "collapsed": false,
    "ExecuteTime": {
     "start_time": "2024-01-21T04:18:25.984295855Z"
    }
   },
   "id": "698e965dc02c250b",
   "execution_count": null
  }
 ],
 "metadata": {
  "kernelspec": {
   "display_name": "Python 3",
   "language": "python",
   "name": "python3"
  },
  "language_info": {
   "codemirror_mode": {
    "name": "ipython",
    "version": 2
   },
   "file_extension": ".py",
   "mimetype": "text/x-python",
   "name": "python",
   "nbconvert_exporter": "python",
   "pygments_lexer": "ipython2",
   "version": "2.7.6"
  }
 },
 "nbformat": 4,
 "nbformat_minor": 5
}
