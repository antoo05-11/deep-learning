{
 "cells": [
  {
   "cell_type": "code",
   "execution_count": 2,
   "id": "initial_id",
   "metadata": {
    "collapsed": true,
    "ExecuteTime": {
     "end_time": "2024-01-18T10:11:12.269945682Z",
     "start_time": "2024-01-18T10:11:09.228060139Z"
    }
   },
   "outputs": [
    {
     "name": "stderr",
     "output_type": "stream",
     "text": [
      "2024-01-18 17:11:09.823492: I tensorflow/core/util/port.cc:113] oneDNN custom operations are on. You may see slightly different numerical results due to floating-point round-off errors from different computation orders. To turn them off, set the environment variable `TF_ENABLE_ONEDNN_OPTS=0`.\n",
      "2024-01-18 17:11:10.060700: E external/local_xla/xla/stream_executor/cuda/cuda_dnn.cc:9261] Unable to register cuDNN factory: Attempting to register factory for plugin cuDNN when one has already been registered\n",
      "2024-01-18 17:11:10.060747: E external/local_xla/xla/stream_executor/cuda/cuda_fft.cc:607] Unable to register cuFFT factory: Attempting to register factory for plugin cuFFT when one has already been registered\n",
      "2024-01-18 17:11:10.090437: E external/local_xla/xla/stream_executor/cuda/cuda_blas.cc:1515] Unable to register cuBLAS factory: Attempting to register factory for plugin cuBLAS when one has already been registered\n",
      "2024-01-18 17:11:10.154315: I tensorflow/core/platform/cpu_feature_guard.cc:182] This TensorFlow binary is optimized to use available CPU instructions in performance-critical operations.\n",
      "To enable the following instructions: AVX2 AVX512F AVX512_VNNI FMA, in other operations, rebuild TensorFlow with the appropriate compiler flags.\n",
      "2024-01-18 17:11:11.044388: W tensorflow/compiler/tf2tensorrt/utils/py_utils.cc:38] TF-TRT Warning: Could not find TensorRT\n"
     ]
    }
   ],
   "source": [
    "import numpy as np\n",
    "from tensorflow.keras.models import Sequential\n",
    "from tensorflow.keras.layers import LSTM, Dense\n",
    "import pandas as pd"
   ]
  },
  {
   "cell_type": "code",
   "outputs": [],
   "source": [
    "df = pd.read_excel(\"VIC-20240113-2028.xls\")\n",
    "data_df = df['output'].to_numpy()\n",
    "target = np.array([[i] for i in data_df])\n",
    "data = np.array([[i] for i in data_df])\n",
    "\n",
    "data = data[:-1]\n",
    "target = target[1:]"
   ],
   "metadata": {
    "collapsed": false,
    "ExecuteTime": {
     "end_time": "2024-01-18T10:11:12.305673635Z",
     "start_time": "2024-01-18T10:11:12.271358589Z"
    }
   },
   "id": "fac132d777a6e58d",
   "execution_count": 3
  },
  {
   "cell_type": "code",
   "outputs": [
    {
     "data": {
      "text/plain": "(249, 236, 12, 1)"
     },
     "execution_count": 40,
     "metadata": {},
     "output_type": "execute_result"
    }
   ],
   "source": [
    "n = (data - 1).size\n",
    "size_train = int(n * 0.95)\n",
    "size_val = n - 1 - size_train\n",
    "\n",
    "x_train, x_val, x_test = data[:size_train], data[size_train:size_train + size_val], data[size_train + size_val:]\n",
    "\n",
    "y_train, y_val, y_test = target[:size_train], target[size_train:size_train + size_val], target[size_train + size_val:]\n",
    "\n",
    "n, size_train, size_val, n - size_train - size_val"
   ],
   "metadata": {
    "collapsed": false,
    "ExecuteTime": {
     "end_time": "2024-01-15T11:21:35.458732439Z",
     "start_time": "2024-01-15T11:21:35.439656130Z"
    }
   },
   "id": "81252f8c678ccdad",
   "execution_count": 40
  },
  {
   "cell_type": "code",
   "outputs": [],
   "source": [
    "x_train = np.reshape(x_train, (x_train.shape[0], 1, x_train.shape[1]))\n",
    "x_test = np.reshape(x_test, (x_test.shape[0], 1, x_test.shape[1]))"
   ],
   "metadata": {
    "collapsed": false,
    "ExecuteTime": {
     "end_time": "2024-01-15T11:21:35.479362317Z",
     "start_time": "2024-01-15T11:21:35.461762137Z"
    }
   },
   "id": "c63c319fc64ee8ef",
   "execution_count": 41
  },
  {
   "cell_type": "code",
   "outputs": [],
   "source": [
    "model = Sequential()\n",
    "model.add(LSTM(units=1000, activation='relu', input_shape=(1, 1)))\n",
    "model.add(Dense(1))\n",
    "model.compile(optimizer='adam', loss='mse')"
   ],
   "metadata": {
    "collapsed": false,
    "ExecuteTime": {
     "end_time": "2024-01-15T11:21:36.654208709Z",
     "start_time": "2024-01-15T11:21:35.486047434Z"
    }
   },
   "id": "ebb65596020a408b",
   "execution_count": 42
  },
  {
   "cell_type": "code",
   "outputs": [
    {
     "name": "stdout",
     "output_type": "stream",
     "text": [
      "Epoch 1/150\n",
      "8/8 [==============================] - 2s 66ms/step - loss: 2538743040.0000 - val_loss: 2799897600.0000\n",
      "Epoch 2/150\n",
      "8/8 [==============================] - 0s 39ms/step - loss: 2232112896.0000 - val_loss: 2443968256.0000\n",
      "Epoch 3/150\n",
      "8/8 [==============================] - 0s 41ms/step - loss: 1934572160.0000 - val_loss: 2087817856.0000\n",
      "Epoch 4/150\n",
      "8/8 [==============================] - 0s 43ms/step - loss: 1628806784.0000 - val_loss: 1715018368.0000\n",
      "Epoch 5/150\n",
      "8/8 [==============================] - 0s 41ms/step - loss: 1310206208.0000 - val_loss: 1328844544.0000\n",
      "Epoch 6/150\n",
      "8/8 [==============================] - 0s 42ms/step - loss: 986356096.0000 - val_loss: 949104640.0000\n",
      "Epoch 7/150\n",
      "8/8 [==============================] - 0s 42ms/step - loss: 678032000.0000 - val_loss: 604555712.0000\n",
      "Epoch 8/150\n",
      "8/8 [==============================] - 0s 43ms/step - loss: 410266272.0000 - val_loss: 329370624.0000\n",
      "Epoch 9/150\n",
      "8/8 [==============================] - 0s 44ms/step - loss: 207392640.0000 - val_loss: 142708464.0000\n",
      "Epoch 10/150\n",
      "8/8 [==============================] - 0s 41ms/step - loss: 81475984.0000 - val_loss: 42769424.0000\n",
      "Epoch 11/150\n",
      "8/8 [==============================] - 0s 42ms/step - loss: 20643754.0000 - val_loss: 6508443.5000\n",
      "Epoch 12/150\n",
      "8/8 [==============================] - 0s 40ms/step - loss: 3118397.2500 - val_loss: 1248602.5000\n",
      "Epoch 13/150\n",
      "8/8 [==============================] - 0s 49ms/step - loss: 1917430.6250 - val_loss: 3035872.7500\n",
      "Epoch 14/150\n",
      "8/8 [==============================] - 0s 40ms/step - loss: 3124826.7500 - val_loss: 3298642.2500\n",
      "Epoch 15/150\n",
      "8/8 [==============================] - 0s 41ms/step - loss: 2803402.2500 - val_loss: 2273979.2500\n",
      "Epoch 16/150\n",
      "8/8 [==============================] - 0s 42ms/step - loss: 1929262.7500 - val_loss: 1470009.3750\n",
      "Epoch 17/150\n",
      "8/8 [==============================] - 0s 42ms/step - loss: 1465390.1250 - val_loss: 1193231.8750\n",
      "Epoch 18/150\n",
      "8/8 [==============================] - 0s 40ms/step - loss: 1354922.7500 - val_loss: 1184026.3750\n",
      "Epoch 19/150\n",
      "8/8 [==============================] - 0s 41ms/step - loss: 1365764.7500 - val_loss: 1203725.5000\n",
      "Epoch 20/150\n",
      "8/8 [==============================] - 0s 41ms/step - loss: 1372374.2500 - val_loss: 1187771.3750\n",
      "Epoch 21/150\n",
      "8/8 [==============================] - 0s 40ms/step - loss: 1363138.5000 - val_loss: 1176340.8750\n",
      "Epoch 22/150\n",
      "8/8 [==============================] - 0s 40ms/step - loss: 1352455.5000 - val_loss: 1176871.2500\n",
      "Epoch 23/150\n",
      "8/8 [==============================] - 0s 40ms/step - loss: 1352083.2500 - val_loss: 1177031.7500\n",
      "Epoch 24/150\n",
      "8/8 [==============================] - 0s 41ms/step - loss: 1350952.1250 - val_loss: 1176571.3750\n",
      "Epoch 25/150\n",
      "8/8 [==============================] - 0s 42ms/step - loss: 1350269.5000 - val_loss: 1176293.3750\n",
      "Epoch 26/150\n",
      "8/8 [==============================] - 0s 42ms/step - loss: 1351250.2500 - val_loss: 1176188.3750\n",
      "Epoch 27/150\n",
      "8/8 [==============================] - 0s 41ms/step - loss: 1349452.1250 - val_loss: 1176192.1250\n",
      "Epoch 28/150\n",
      "8/8 [==============================] - 0s 41ms/step - loss: 1350470.0000 - val_loss: 1176400.1250\n",
      "Epoch 29/150\n",
      "8/8 [==============================] - 0s 40ms/step - loss: 1351513.2500 - val_loss: 1176168.8750\n",
      "Epoch 30/150\n",
      "8/8 [==============================] - 0s 43ms/step - loss: 1350600.6250 - val_loss: 1176260.1250\n",
      "Epoch 31/150\n",
      "8/8 [==============================] - 0s 41ms/step - loss: 1350452.6250 - val_loss: 1176556.8750\n",
      "Epoch 32/150\n",
      "8/8 [==============================] - 0s 42ms/step - loss: 1352653.7500 - val_loss: 1176293.6250\n",
      "Epoch 33/150\n",
      "8/8 [==============================] - 0s 41ms/step - loss: 1350436.7500 - val_loss: 1176168.1250\n",
      "Epoch 34/150\n",
      "8/8 [==============================] - 0s 41ms/step - loss: 1350608.5000 - val_loss: 1176169.8750\n",
      "Epoch 35/150\n",
      "8/8 [==============================] - 0s 42ms/step - loss: 1351492.2500 - val_loss: 1177962.8750\n",
      "Epoch 36/150\n",
      "8/8 [==============================] - 0s 45ms/step - loss: 1352178.5000 - val_loss: 1177026.7500\n",
      "Epoch 37/150\n",
      "8/8 [==============================] - 0s 43ms/step - loss: 1351419.1250 - val_loss: 1177228.2500\n",
      "Epoch 38/150\n",
      "8/8 [==============================] - 0s 41ms/step - loss: 1364215.1250 - val_loss: 1178015.3750\n",
      "Epoch 39/150\n",
      "8/8 [==============================] - 0s 43ms/step - loss: 1353950.3750 - val_loss: 1176184.5000\n",
      "Epoch 40/150\n",
      "8/8 [==============================] - 0s 44ms/step - loss: 1349820.3750 - val_loss: 1176204.8750\n",
      "Epoch 41/150\n",
      "8/8 [==============================] - 0s 43ms/step - loss: 1349651.5000 - val_loss: 1176804.6250\n",
      "Epoch 42/150\n",
      "8/8 [==============================] - 0s 43ms/step - loss: 1351472.0000 - val_loss: 1178040.0000\n",
      "Epoch 43/150\n",
      "8/8 [==============================] - 0s 41ms/step - loss: 1351487.0000 - val_loss: 1176810.6250\n",
      "Epoch 44/150\n",
      "8/8 [==============================] - 0s 43ms/step - loss: 1350782.8750 - val_loss: 1177886.1250\n",
      "Epoch 45/150\n",
      "8/8 [==============================] - 0s 42ms/step - loss: 1350465.7500 - val_loss: 1176380.8750\n",
      "Epoch 46/150\n",
      "8/8 [==============================] - 0s 41ms/step - loss: 1349861.7500 - val_loss: 1176268.8750\n",
      "Epoch 47/150\n",
      "8/8 [==============================] - 0s 42ms/step - loss: 1351478.7500 - val_loss: 1176173.3750\n",
      "Epoch 48/150\n",
      "8/8 [==============================] - 0s 40ms/step - loss: 1351248.1250 - val_loss: 1178158.1250\n",
      "Epoch 49/150\n",
      "8/8 [==============================] - 0s 41ms/step - loss: 1353893.0000 - val_loss: 1177531.7500\n",
      "Epoch 50/150\n",
      "8/8 [==============================] - 0s 41ms/step - loss: 1351623.3750 - val_loss: 1176369.6250\n",
      "Epoch 51/150\n",
      "8/8 [==============================] - 0s 42ms/step - loss: 1351445.3750 - val_loss: 1177281.5000\n",
      "Epoch 52/150\n",
      "8/8 [==============================] - 0s 42ms/step - loss: 1351358.6250 - val_loss: 1181399.0000\n",
      "Epoch 53/150\n",
      "8/8 [==============================] - 0s 42ms/step - loss: 1355116.2500 - val_loss: 1181850.1250\n",
      "Epoch 54/150\n",
      "8/8 [==============================] - 0s 43ms/step - loss: 1345692.3750 - val_loss: 1176450.0000\n",
      "Epoch 55/150\n",
      "8/8 [==============================] - 0s 42ms/step - loss: 1353423.3750 - val_loss: 1179637.7500\n",
      "Epoch 56/150\n",
      "8/8 [==============================] - 0s 44ms/step - loss: 1354321.1250 - val_loss: 1179302.8750\n",
      "Epoch 57/150\n",
      "8/8 [==============================] - 0s 49ms/step - loss: 1356909.5000 - val_loss: 1176462.2500\n",
      "Epoch 58/150\n",
      "8/8 [==============================] - 0s 44ms/step - loss: 1354594.6250 - val_loss: 1178893.8750\n",
      "Epoch 59/150\n",
      "8/8 [==============================] - 0s 41ms/step - loss: 1355457.3750 - val_loss: 1180759.6250\n",
      "Epoch 60/150\n",
      "8/8 [==============================] - 0s 41ms/step - loss: 1350675.0000 - val_loss: 1177189.8750\n",
      "Epoch 61/150\n",
      "8/8 [==============================] - 0s 40ms/step - loss: 1353974.6250 - val_loss: 1176184.0000\n",
      "Epoch 62/150\n",
      "8/8 [==============================] - 0s 41ms/step - loss: 1350599.1250 - val_loss: 1176171.1250\n",
      "Epoch 63/150\n",
      "8/8 [==============================] - 0s 40ms/step - loss: 1349581.0000 - val_loss: 1176644.1250\n",
      "Epoch 64/150\n",
      "8/8 [==============================] - 0s 42ms/step - loss: 1350468.2500 - val_loss: 1177818.5000\n",
      "Epoch 65/150\n",
      "8/8 [==============================] - 0s 42ms/step - loss: 1349989.2500 - val_loss: 1176506.3750\n",
      "Epoch 66/150\n",
      "8/8 [==============================] - 0s 44ms/step - loss: 1355701.3750 - val_loss: 1179818.8750\n",
      "Epoch 67/150\n",
      "8/8 [==============================] - 0s 42ms/step - loss: 1357192.5000 - val_loss: 1177595.5000\n",
      "Epoch 68/150\n",
      "8/8 [==============================] - 0s 40ms/step - loss: 1350335.5000 - val_loss: 1178424.1250\n",
      "Epoch 69/150\n",
      "8/8 [==============================] - 0s 41ms/step - loss: 1351066.5000 - val_loss: 1179103.3750\n",
      "Epoch 70/150\n",
      "8/8 [==============================] - 0s 40ms/step - loss: 1352449.1250 - val_loss: 1180366.6250\n",
      "Epoch 71/150\n",
      "8/8 [==============================] - 0s 40ms/step - loss: 1352052.2500 - val_loss: 1178813.8750\n",
      "Epoch 72/150\n",
      "8/8 [==============================] - 0s 42ms/step - loss: 1352216.1250 - val_loss: 1176189.8750\n",
      "Epoch 73/150\n",
      "8/8 [==============================] - 0s 40ms/step - loss: 1350520.6250 - val_loss: 1176693.6250\n",
      "Epoch 74/150\n",
      "8/8 [==============================] - 0s 42ms/step - loss: 1356313.6250 - val_loss: 1176170.0000\n",
      "Epoch 75/150\n",
      "8/8 [==============================] - 0s 40ms/step - loss: 1349920.1250 - val_loss: 1177721.1250\n",
      "Epoch 76/150\n",
      "8/8 [==============================] - 0s 40ms/step - loss: 1354582.7500 - val_loss: 1182454.6250\n",
      "Epoch 77/150\n",
      "8/8 [==============================] - 0s 44ms/step - loss: 1352521.2500 - val_loss: 1176167.5000\n",
      "Epoch 78/150\n",
      "8/8 [==============================] - 0s 44ms/step - loss: 1353568.3750 - val_loss: 1176712.1250\n",
      "Epoch 79/150\n",
      "8/8 [==============================] - 0s 44ms/step - loss: 1355368.6250 - val_loss: 1176736.6250\n",
      "Epoch 80/150\n",
      "8/8 [==============================] - 0s 42ms/step - loss: 1350409.7500 - val_loss: 1178410.0000\n",
      "Epoch 81/150\n",
      "8/8 [==============================] - 0s 41ms/step - loss: 1355333.2500 - val_loss: 1179404.6250\n",
      "Epoch 82/150\n",
      "8/8 [==============================] - 0s 41ms/step - loss: 1352350.1250 - val_loss: 1176595.5000\n",
      "Epoch 83/150\n",
      "8/8 [==============================] - 0s 42ms/step - loss: 1357153.8750 - val_loss: 1178344.8750\n",
      "Epoch 84/150\n",
      "8/8 [==============================] - 0s 40ms/step - loss: 1353469.8750 - val_loss: 1176194.2500\n",
      "Epoch 85/150\n",
      "8/8 [==============================] - 0s 41ms/step - loss: 1350967.7500 - val_loss: 1176166.1250\n",
      "Epoch 86/150\n",
      "8/8 [==============================] - 0s 41ms/step - loss: 1350367.3750 - val_loss: 1176239.3750\n",
      "Epoch 87/150\n",
      "8/8 [==============================] - 0s 42ms/step - loss: 1351039.6250 - val_loss: 1178824.3750\n",
      "Epoch 88/150\n",
      "8/8 [==============================] - 0s 41ms/step - loss: 1352598.5000 - val_loss: 1176194.6250\n",
      "Epoch 89/150\n",
      "8/8 [==============================] - 0s 43ms/step - loss: 1349772.2500 - val_loss: 1176869.0000\n",
      "Epoch 90/150\n",
      "8/8 [==============================] - 0s 43ms/step - loss: 1352936.8750 - val_loss: 1177399.5000\n",
      "Epoch 91/150\n",
      "8/8 [==============================] - 0s 42ms/step - loss: 1357397.3750 - val_loss: 1176506.1250\n",
      "Epoch 92/150\n",
      "8/8 [==============================] - 0s 42ms/step - loss: 1356988.5000 - val_loss: 1178403.8750\n",
      "Epoch 93/150\n",
      "8/8 [==============================] - 0s 41ms/step - loss: 1353715.1250 - val_loss: 1176711.3750\n",
      "Epoch 94/150\n",
      "8/8 [==============================] - 0s 42ms/step - loss: 1350649.6250 - val_loss: 1176600.5000\n",
      "Epoch 95/150\n",
      "8/8 [==============================] - 0s 40ms/step - loss: 1355579.3750 - val_loss: 1178867.0000\n",
      "Epoch 96/150\n",
      "8/8 [==============================] - 0s 41ms/step - loss: 1356074.2500 - val_loss: 1177024.8750\n",
      "Epoch 97/150\n",
      "8/8 [==============================] - 0s 41ms/step - loss: 1352749.2500 - val_loss: 1176193.8750\n",
      "Epoch 98/150\n",
      "8/8 [==============================] - 0s 41ms/step - loss: 1357314.0000 - val_loss: 1177376.0000\n",
      "Epoch 99/150\n",
      "8/8 [==============================] - 0s 41ms/step - loss: 1369856.6250 - val_loss: 1181422.8750\n",
      "Epoch 100/150\n",
      "8/8 [==============================] - 0s 43ms/step - loss: 1354584.1250 - val_loss: 1176293.8750\n",
      "Epoch 101/150\n",
      "8/8 [==============================] - 0s 41ms/step - loss: 1352510.8750 - val_loss: 1176241.7500\n",
      "Epoch 102/150\n",
      "8/8 [==============================] - 0s 41ms/step - loss: 1347012.3750 - val_loss: 1181743.5000\n",
      "Epoch 103/150\n",
      "8/8 [==============================] - 0s 41ms/step - loss: 1363719.8750 - val_loss: 1185329.3750\n",
      "Epoch 104/150\n",
      "8/8 [==============================] - 0s 40ms/step - loss: 1347859.5000 - val_loss: 1176524.1250\n",
      "Epoch 105/150\n",
      "8/8 [==============================] - 0s 41ms/step - loss: 1353175.7500 - val_loss: 1179453.0000\n",
      "Epoch 106/150\n",
      "8/8 [==============================] - 0s 41ms/step - loss: 1353258.1250 - val_loss: 1176169.3750\n",
      "Epoch 107/150\n",
      "8/8 [==============================] - 0s 43ms/step - loss: 1351221.7500 - val_loss: 1178720.1250\n",
      "Epoch 108/150\n",
      "8/8 [==============================] - 0s 42ms/step - loss: 1351121.8750 - val_loss: 1176235.1250\n",
      "Epoch 109/150\n",
      "8/8 [==============================] - 0s 40ms/step - loss: 1351658.2500 - val_loss: 1176225.3750\n",
      "Epoch 110/150\n",
      "8/8 [==============================] - 0s 41ms/step - loss: 1353297.0000 - val_loss: 1177441.3750\n",
      "Epoch 111/150\n",
      "8/8 [==============================] - 0s 44ms/step - loss: 1350505.7500 - val_loss: 1180455.5000\n",
      "Epoch 112/150\n",
      "8/8 [==============================] - 0s 44ms/step - loss: 1355685.8750 - val_loss: 1177625.6250\n",
      "Epoch 113/150\n",
      "8/8 [==============================] - 0s 44ms/step - loss: 1353271.1250 - val_loss: 1176171.1250\n",
      "Epoch 114/150\n",
      "8/8 [==============================] - 0s 46ms/step - loss: 1351708.6250 - val_loss: 1176169.8750\n",
      "Epoch 115/150\n",
      "8/8 [==============================] - 0s 60ms/step - loss: 1351092.1250 - val_loss: 1176567.6250\n",
      "Epoch 116/150\n",
      "8/8 [==============================] - 1s 75ms/step - loss: 1354866.5000 - val_loss: 1176761.6250\n",
      "Epoch 117/150\n",
      "8/8 [==============================] - 1s 83ms/step - loss: 1355483.6250 - val_loss: 1177398.8750\n",
      "Epoch 118/150\n",
      "8/8 [==============================] - 1s 75ms/step - loss: 1350387.6250 - val_loss: 1176371.3750\n",
      "Epoch 119/150\n",
      "8/8 [==============================] - 1s 82ms/step - loss: 1350527.1250 - val_loss: 1176300.3750\n",
      "Epoch 120/150\n",
      "8/8 [==============================] - 1s 78ms/step - loss: 1352193.6250 - val_loss: 1176179.0000\n",
      "Epoch 121/150\n",
      "8/8 [==============================] - 1s 83ms/step - loss: 1356105.1250 - val_loss: 1178309.0000\n",
      "Epoch 122/150\n",
      "8/8 [==============================] - 1s 77ms/step - loss: 1362098.6250 - val_loss: 1177214.3750\n",
      "Epoch 123/150\n",
      "8/8 [==============================] - 1s 73ms/step - loss: 1349478.6250 - val_loss: 1177603.6250\n",
      "Epoch 124/150\n",
      "8/8 [==============================] - 1s 77ms/step - loss: 1360680.1250 - val_loss: 1187862.5000\n",
      "Epoch 125/150\n",
      "8/8 [==============================] - 1s 77ms/step - loss: 1356712.5000 - val_loss: 1176170.8750\n",
      "Epoch 126/150\n",
      "8/8 [==============================] - 1s 79ms/step - loss: 1350889.2500 - val_loss: 1177627.8750\n",
      "Epoch 127/150\n",
      "8/8 [==============================] - 1s 82ms/step - loss: 1352747.8750 - val_loss: 1176305.8750\n",
      "Epoch 128/150\n",
      "8/8 [==============================] - 1s 82ms/step - loss: 1352859.2500 - val_loss: 1178253.3750\n",
      "Epoch 129/150\n",
      "8/8 [==============================] - 1s 84ms/step - loss: 1353505.8750 - val_loss: 1176679.0000\n",
      "Epoch 130/150\n",
      "8/8 [==============================] - 1s 74ms/step - loss: 1357470.0000 - val_loss: 1177745.6250\n",
      "Epoch 131/150\n",
      "8/8 [==============================] - 1s 81ms/step - loss: 1350082.0000 - val_loss: 1178145.7500\n",
      "Epoch 132/150\n",
      "8/8 [==============================] - 1s 78ms/step - loss: 1359547.3750 - val_loss: 1180796.8750\n",
      "Epoch 133/150\n",
      "8/8 [==============================] - 1s 75ms/step - loss: 1351577.3750 - val_loss: 1176175.3750\n",
      "Epoch 134/150\n",
      "8/8 [==============================] - 1s 73ms/step - loss: 1356781.1250 - val_loss: 1189303.3750\n",
      "Epoch 135/150\n",
      "8/8 [==============================] - 1s 74ms/step - loss: 1356050.6250 - val_loss: 1179983.6250\n",
      "Epoch 136/150\n",
      "8/8 [==============================] - 1s 70ms/step - loss: 1348126.3750 - val_loss: 1180151.3750\n",
      "Epoch 137/150\n",
      "8/8 [==============================] - 1s 73ms/step - loss: 1357527.1250 - val_loss: 1178262.6250\n",
      "Epoch 138/150\n",
      "8/8 [==============================] - 1s 78ms/step - loss: 1351411.2500 - val_loss: 1176790.3750\n",
      "Epoch 139/150\n",
      "8/8 [==============================] - 1s 80ms/step - loss: 1352003.5000 - val_loss: 1178688.3750\n",
      "Epoch 140/150\n",
      "8/8 [==============================] - 1s 74ms/step - loss: 1364444.8750 - val_loss: 1181926.8750\n",
      "Epoch 141/150\n",
      "8/8 [==============================] - 1s 69ms/step - loss: 1361720.6250 - val_loss: 1179381.1250\n",
      "Epoch 142/150\n",
      "8/8 [==============================] - 1s 72ms/step - loss: 1352236.2500 - val_loss: 1176312.8750\n",
      "Epoch 143/150\n",
      "8/8 [==============================] - 1s 81ms/step - loss: 1349740.2500 - val_loss: 1179619.0000\n",
      "Epoch 144/150\n",
      "8/8 [==============================] - 1s 72ms/step - loss: 1351967.8750 - val_loss: 1178220.5000\n",
      "Epoch 145/150\n",
      "8/8 [==============================] - 1s 74ms/step - loss: 1357107.6250 - val_loss: 1180311.8750\n",
      "Epoch 146/150\n",
      "8/8 [==============================] - 1s 76ms/step - loss: 1351956.8750 - val_loss: 1176865.3750\n",
      "Epoch 147/150\n",
      "8/8 [==============================] - 1s 79ms/step - loss: 1353002.5000 - val_loss: 1179516.6250\n",
      "Epoch 148/150\n",
      "8/8 [==============================] - 1s 76ms/step - loss: 1355589.1250 - val_loss: 1176168.6250\n",
      "Epoch 149/150\n",
      "8/8 [==============================] - 1s 82ms/step - loss: 1351358.3750 - val_loss: 1179485.1250\n",
      "Epoch 150/150\n",
      "8/8 [==============================] - 1s 85ms/step - loss: 1355185.8750 - val_loss: 1180612.3750\n"
     ]
    },
    {
     "data": {
      "text/plain": "<keras.src.callbacks.History at 0x7fa4f46b60e0>"
     },
     "execution_count": 43,
     "metadata": {},
     "output_type": "execute_result"
    }
   ],
   "source": [
    "model.fit(x_train, y_train, epochs=150, validation_data=(x_val, y_val))"
   ],
   "metadata": {
    "collapsed": false,
    "ExecuteTime": {
     "end_time": "2024-01-15T11:22:37.614095314Z",
     "start_time": "2024-01-15T11:21:36.651734274Z"
    }
   },
   "id": "412524a1dc9dab3d",
   "execution_count": 43
  },
  {
   "cell_type": "code",
   "outputs": [
    {
     "name": "stdout",
     "output_type": "stream",
     "text": [
      "WARNING:tensorflow:5 out of the last 5 calls to <function Model.make_predict_function.<locals>.predict_function at 0x7fa4f45e12d0> triggered tf.function retracing. Tracing is expensive and the excessive number of tracings could be due to (1) creating @tf.function repeatedly in a loop, (2) passing tensors with different shapes, (3) passing Python objects instead of tensors. For (1), please define your @tf.function outside of the loop. For (2), @tf.function has reduce_retracing=True option that can avoid unnecessary retracing. For (3), please refer to https://www.tensorflow.org/guide/function#controlling_retracing and https://www.tensorflow.org/api_docs/python/tf/function for  more details.\n",
      "1/1 [==============================] - 0s 300ms/step\n"
     ]
    },
    {
     "data": {
      "text/plain": "array([[54886.18]], dtype=float32)"
     },
     "execution_count": 44,
     "metadata": {},
     "output_type": "execute_result"
    }
   ],
   "source": [
    "predictions = model.predict(x_test)\n",
    "\n",
    "predictions"
   ],
   "metadata": {
    "collapsed": false,
    "ExecuteTime": {
     "end_time": "2024-01-15T11:22:37.962456344Z",
     "start_time": "2024-01-15T11:22:37.571793006Z"
    }
   },
   "id": "8323fef60a63e52",
   "execution_count": 44
  },
  {
   "cell_type": "code",
   "outputs": [
    {
     "data": {
      "text/plain": "array([[55000]])"
     },
     "execution_count": 45,
     "metadata": {},
     "output_type": "execute_result"
    }
   ],
   "source": [
    "y_test"
   ],
   "metadata": {
    "collapsed": false,
    "ExecuteTime": {
     "end_time": "2024-01-15T11:22:38.133159380Z",
     "start_time": "2024-01-15T11:22:37.969828002Z"
    }
   },
   "id": "e025a83df7eaa3b2",
   "execution_count": 45
  },
  {
   "cell_type": "code",
   "outputs": [
    {
     "data": {
      "text/plain": "array([[113.8203125]])"
     },
     "execution_count": 46,
     "metadata": {},
     "output_type": "execute_result"
    }
   ],
   "source": [],
   "metadata": {
    "collapsed": false,
    "ExecuteTime": {
     "end_time": "2024-01-15T11:22:38.149986964Z",
     "start_time": "2024-01-15T11:22:37.974474256Z"
    }
   },
   "id": "9f15f27e2a1b7796",
   "execution_count": 46
  }
 ],
 "metadata": {
  "kernelspec": {
   "display_name": "Python 3",
   "language": "python",
   "name": "python3"
  },
  "language_info": {
   "codemirror_mode": {
    "name": "ipython",
    "version": 2
   },
   "file_extension": ".py",
   "mimetype": "text/x-python",
   "name": "python",
   "nbconvert_exporter": "python",
   "pygments_lexer": "ipython2",
   "version": "2.7.6"
  }
 },
 "nbformat": 4,
 "nbformat_minor": 5
}
